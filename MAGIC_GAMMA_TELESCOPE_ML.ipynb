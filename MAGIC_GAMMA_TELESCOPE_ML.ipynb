{
  "nbformat": 4,
  "nbformat_minor": 0,
  "metadata": {
    "kernelspec": {
      "display_name": "Python 3",
      "language": "python",
      "name": "python3"
    },
    "language_info": {
      "codemirror_mode": {
        "name": "ipython",
        "version": 3
      },
      "file_extension": ".py",
      "mimetype": "text/x-python",
      "name": "python",
      "nbconvert_exporter": "python",
      "pygments_lexer": "ipython3",
      "version": "3.7.5"
    },
    "colab": {
      "name": "MAGIC GAMMA TELESCOPE ML.ipynb",
      "provenance": [],
      "include_colab_link": true
    }
  },
  "cells": [
    {
      "cell_type": "markdown",
      "metadata": {
        "id": "view-in-github",
        "colab_type": "text"
      },
      "source": [
        "<a href=\"https://colab.research.google.com/github/lOmarMisbahl/MAGIC-GAMMA-TELESCOPE-MACHINE-LEARNING/blob/main/MAGIC_GAMMA_TELESCOPE_ML.ipynb\" target=\"_parent\"><img src=\"https://colab.research.google.com/assets/colab-badge.svg\" alt=\"Open In Colab\"/></a>"
      ]
    },
    {
      "cell_type": "code",
      "metadata": {
        "id": "q4b9EjrZna4m"
      },
      "source": [
        "import numpy as np\n",
        "data = np.loadtxt('magic04.data', delimiter=',', usecols=[0,1,2,3,4,5,6,7,8,9])\n",
        "labels = np.loadtxt('magic04.data', delimiter=',',dtype=np.str, usecols=[10])"
      ],
      "execution_count": null,
      "outputs": []
    },
    {
      "cell_type": "code",
      "metadata": {
        "colab": {
          "base_uri": "https://localhost:8080/"
        },
        "id": "wE6tuzurna4p",
        "outputId": "6515c2a3-ee78-47a1-ac30-865dd2780665"
      },
      "source": [
        "rem = 5644\n",
        "i=0\n",
        "while rem>0 :\n",
        "    temp = len(labels)-1\n",
        "    print(temp)\n",
        "    while temp>=0 :\n",
        "        if labels[i]=='g' :\n",
        "            if randint(0, 1)==0 :\n",
        "                continue\n",
        "            labels =np.delete(labels,i)\n",
        "            data =np.delete(data,i,0)\n",
        "            if len(data)!=len(labels):\n",
        "                print(\"error\")\n",
        "                break\n",
        "            i-=1\n",
        "            rem-=1\n",
        "            temp-=1\n",
        "            if rem <1 :\n",
        "                break\n",
        "        i+=1\n",
        "print(len(labels))"
      ],
      "execution_count": null,
      "outputs": [
        {
          "output_type": "stream",
          "text": [
            "19019\n",
            "13376\n"
          ],
          "name": "stdout"
        }
      ]
    },
    {
      "cell_type": "code",
      "metadata": {
        "colab": {
          "base_uri": "https://localhost:8080/"
        },
        "id": "OcsFgSVNna4p",
        "outputId": "fda3b1bd-9161-419c-dd60-949d6b056cea"
      },
      "source": [
        "l = 0\n",
        "r =0 \n",
        "for i in range(len(labels)) :\n",
        "    if labels[i]=='g':\n",
        "        l+=1\n",
        "    else :\n",
        "        r+=1\n",
        "print(l)\n",
        "print(r)"
      ],
      "execution_count": null,
      "outputs": [
        {
          "output_type": "stream",
          "text": [
            "6688\n",
            "6688\n"
          ],
          "name": "stdout"
        }
      ]
    },
    {
      "cell_type": "code",
      "metadata": {
        "colab": {
          "base_uri": "https://localhost:8080/"
        },
        "id": "dAzXwRAbna4q",
        "outputId": "e8926364-a948-4fc2-a8bc-825ae503c127"
      },
      "source": [
        "temp = int(len(labels)*0.7)\n",
        "train_data = data[:temp]\n",
        "train_label = labels[:temp]\n",
        "test_data = data[temp:]\n",
        "test_label =labels[temp:]\n",
        "print(len(train_label))    "
      ],
      "execution_count": null,
      "outputs": [
        {
          "output_type": "stream",
          "text": [
            "9363\n"
          ],
          "name": "stdout"
        }
      ]
    },
    {
      "cell_type": "code",
      "metadata": {
        "colab": {
          "base_uri": "https://localhost:8080/"
        },
        "id": "y7xzM69sna4q",
        "outputId": "13177d49-3f61-42ed-abd3-8e79ae52d7d6"
      },
      "source": [
        "from sklearn.naive_bayes import GaussianNB\n",
        "clf = GaussianNB()\n",
        "clf.fit(train_data, train_label)"
      ],
      "execution_count": null,
      "outputs": [
        {
          "output_type": "execute_result",
          "data": {
            "text/plain": [
              "GaussianNB(priors=None, var_smoothing=1e-09)"
            ]
          },
          "metadata": {
            "tags": []
          },
          "execution_count": 88
        }
      ]
    },
    {
      "cell_type": "code",
      "metadata": {
        "colab": {
          "base_uri": "https://localhost:8080/"
        },
        "id": "3K1S1Vf_na4q",
        "outputId": "bfd35064-0bf0-4689-b144-9aa23e63716d"
      },
      "source": [
        "from sklearn.metrics import *\n",
        "wrong = 0 \n",
        "pred = []\n",
        "for i in range(len(test_label)):\n",
        "    pred.append(clf.predict(test_data[i].reshape(1, -1)))  \n",
        "    if pred[i]!=test_label[i] :\n",
        "        wrong+=1 ;\n",
        "print(wrong)\n",
        "print(accuracy_score(test_label, pred))\n",
        "print(precision_score(test_label, pred,labels=['h','g'],pos_label='h'))\n",
        "print(recall_score(test_label, pred,labels=['h','g'],pos_label='h'))\n",
        "print(f1_score(test_label, pred,average=None))\n",
        "print(confusion_matrix(test_label, pred))"
      ],
      "execution_count": null,
      "outputs": [
        {
          "output_type": "stream",
          "text": [
            "1061\n",
            "0.7356092698729131\n",
            "0.6769911504424779\n",
            "0.44315713251267197\n",
            "[0.81518899 0.5356674 ]\n",
            "[[2340  292]\n",
            " [ 769  612]]\n"
          ],
          "name": "stdout"
        }
      ]
    },
    {
      "cell_type": "code",
      "metadata": {
        "colab": {
          "base_uri": "https://localhost:8080/"
        },
        "id": "v1m0-oBfna4r",
        "outputId": "9bb24105-0b83-45da-9c8e-f11a813085ae"
      },
      "source": [
        "\n",
        "from sklearn.neighbors  import KNeighborsClassifier\n",
        "neigh = KNeighborsClassifier(n_neighbors=10)\n",
        "neigh.fit(train_data,train_label)"
      ],
      "execution_count": null,
      "outputs": [
        {
          "output_type": "execute_result",
          "data": {
            "text/plain": [
              "KNeighborsClassifier(algorithm='auto', leaf_size=30, metric='minkowski',\n",
              "                     metric_params=None, n_jobs=None, n_neighbors=2, p=2,\n",
              "                     weights='uniform')"
            ]
          },
          "metadata": {
            "tags": []
          },
          "execution_count": 93
        }
      ]
    },
    {
      "cell_type": "code",
      "metadata": {
        "colab": {
          "base_uri": "https://localhost:8080/"
        },
        "id": "sgF4nvolna4r",
        "outputId": "10c5dfe6-313e-44af-bc61-54881b243145"
      },
      "source": [
        "from sklearn.metrics import *\n",
        "wrong = 0 \n",
        "pred = []\n",
        "for i in range(len(test_label)):\n",
        "    pred.append(neigh.predict(test_data[i].reshape(1, -1)))\n",
        "    if pred[i]!=test_label[i] :\n",
        "        wrong+=1 ;\n",
        "print(wrong)\n",
        "print(accuracy_score(test_label, pred))\n",
        "print(precision_score(test_label, pred,labels=['h','g'],pos_label='h'))\n",
        "print(recall_score(test_label, pred,labels=['h','g'],pos_label='h'))\n",
        "print(f1_score(test_label, pred,average=None))\n",
        "print(confusion_matrix(test_label, pred))"
      ],
      "execution_count": null,
      "outputs": [
        {
          "output_type": "stream",
          "text": [
            "844\n",
            "0.7896835285322701\n",
            "0.7378210806023029\n",
            "0.6031860970311369\n",
            "[0.84699057 0.66374502]\n",
            "[[2336  296]\n",
            " [ 548  833]]\n"
          ],
          "name": "stdout"
        }
      ]
    },
    {
      "cell_type": "code",
      "metadata": {
        "colab": {
          "base_uri": "https://localhost:8080/"
        },
        "id": "enppUOq1na4r",
        "outputId": "783f0c0c-b9c4-4a97-c4b1-9e6c3543d2dc"
      },
      "source": [
        "from sklearn.ensemble import AdaBoostRegressor\n",
        "from sklearn import preprocessing\n",
        "le = preprocessing.LabelEncoder()\n",
        "le.fit(train_label)\n",
        "regr = AdaBoostRegressor(random_state=0, n_estimators=100)\n",
        "regr.fit(train_data,le.transform(train_label))"
      ],
      "execution_count": null,
      "outputs": [
        {
          "output_type": "execute_result",
          "data": {
            "text/plain": [
              "AdaBoostRegressor(base_estimator=None, learning_rate=1.0, loss='linear',\n",
              "                  n_estimators=10000000, random_state=0)"
            ]
          },
          "metadata": {
            "tags": []
          },
          "execution_count": 99
        }
      ]
    },
    {
      "cell_type": "code",
      "metadata": {
        "colab": {
          "base_uri": "https://localhost:8080/"
        },
        "id": "dizKAqT1na4s",
        "outputId": "fa2e76fd-6675-44ac-e7b1-9b8c10848c93"
      },
      "source": [
        "from sklearn.metrics import *\n",
        "wrong = 0 \n",
        "pred = []\n",
        "for i in range(len(test_label)):\n",
        "    x=round(regr.predict(test_data[i].reshape(1, -1))[0])\n",
        "    pred.append(le.inverse_transform([x])[0])\n",
        "    if pred[i]!=test_label[i] :\n",
        "        wrong+=1\n",
        "print(wrong)\n",
        "print(accuracy_score(test_label, pred))\n",
        "print(precision_score(test_label, pred,labels=['h','g'],pos_label='h'))\n",
        "print(recall_score(test_label, pred,labels=['h','g'],pos_label='h'))\n",
        "print(f1_score(test_label, pred,average=None))\n",
        "print(confusion_matrix(test_label, pred))"
      ],
      "execution_count": null,
      "outputs": [
        {
          "output_type": "stream",
          "text": [
            "764\n",
            "0.8096187390979317\n",
            "0.7382239382239382\n",
            "0.6922519913106444\n",
            "[0.85719626 0.71449925]\n",
            "[[2293  339]\n",
            " [ 425  956]]\n"
          ],
          "name": "stdout"
        }
      ]
    },
    {
      "cell_type": "code",
      "metadata": {
        "colab": {
          "base_uri": "https://localhost:8080/"
        },
        "id": "_vgJuYn0na4s",
        "outputId": "2583f352-7315-46fa-ea58-893bc78d5d27"
      },
      "source": [
        "from sklearn.ensemble import RandomForestClassifier\n",
        "from sklearn import preprocessing\n",
        "le = preprocessing.LabelEncoder()\n",
        "le.fit(train_label)\n",
        "clf = RandomForestClassifier(max_depth=3, random_state=0,n_estimators=100)\n",
        "clf.fit(train_data,le.transform(train_label))"
      ],
      "execution_count": null,
      "outputs": [
        {
          "output_type": "execute_result",
          "data": {
            "text/plain": [
              "RandomForestClassifier(bootstrap=True, ccp_alpha=0.0, class_weight=None,\n",
              "                       criterion='gini', max_depth=3, max_features='auto',\n",
              "                       max_leaf_nodes=None, max_samples=None,\n",
              "                       min_impurity_decrease=0.0, min_impurity_split=None,\n",
              "                       min_samples_leaf=1, min_samples_split=2,\n",
              "                       min_weight_fraction_leaf=0.0, n_estimators=100,\n",
              "                       n_jobs=None, oob_score=False, random_state=0, verbose=0,\n",
              "                       warm_start=False)"
            ]
          },
          "metadata": {
            "tags": []
          },
          "execution_count": 106
        }
      ]
    },
    {
      "cell_type": "code",
      "metadata": {
        "colab": {
          "base_uri": "https://localhost:8080/"
        },
        "id": "lG_658DRna4s",
        "outputId": "bbe63aaa-a776-4458-e26c-a0a71cddf2a8"
      },
      "source": [
        "from sklearn.metrics import *\n",
        "wrong = 0 \n",
        "pred = []\n",
        "for i in range(len(test_label)):\n",
        "    x=round(clf.predict(test_data[i].reshape(1, -1))[0])\n",
        "    pred.append(le.inverse_transform([x]))\n",
        "    if pred[i]!=test_label[i] :\n",
        "        wrong+=1\n",
        "print(wrong)\n",
        "print(accuracy_score(test_label, pred))\n",
        "print(precision_score(test_label, pred,labels=['h','g'],pos_label='h'))\n",
        "print(recall_score(test_label, pred,labels=['h','g'],pos_label='h'))\n",
        "print(f1_score(test_label, pred,average=None))\n",
        "print(confusion_matrix(test_label, pred))"
      ],
      "execution_count": null,
      "outputs": [
        {
          "output_type": "stream",
          "text": [
            "1103\n",
            "0.7251432843259407\n",
            "0.5688800792864221\n",
            "0.8312816799420709\n",
            "[0.7616166  0.67549279]\n",
            "[[1762  870]\n",
            " [ 233 1148]]\n"
          ],
          "name": "stdout"
        }
      ]
    },
    {
      "cell_type": "code",
      "metadata": {
        "colab": {
          "base_uri": "https://localhost:8080/"
        },
        "id": "NTyB_Wbkn8AK",
        "outputId": "0311172a-4eeb-4fba-8293-a8c36276eb84"
      },
      "source": [
        "from sklearn import tree\n",
        "from sklearn import preprocessing\n",
        "le = preprocessing.LabelEncoder()\n",
        "le.fit(train_label)\n",
        "clf = tree.DecisionTreeClassifier()\n",
        "clf.fit(train_data,le.transform(train_label))"
      ],
      "execution_count": null,
      "outputs": [
        {
          "output_type": "execute_result",
          "data": {
            "text/plain": [
              "DecisionTreeClassifier(ccp_alpha=0.0, class_weight=None, criterion='gini',\n",
              "                       max_depth=None, max_features=None, max_leaf_nodes=None,\n",
              "                       min_impurity_decrease=0.0, min_impurity_split=None,\n",
              "                       min_samples_leaf=1, min_samples_split=2,\n",
              "                       min_weight_fraction_leaf=0.0, presort='deprecated',\n",
              "                       random_state=None, splitter='best')"
            ]
          },
          "metadata": {
            "tags": []
          },
          "execution_count": 51
        }
      ]
    },
    {
      "cell_type": "code",
      "metadata": {
        "colab": {
          "base_uri": "https://localhost:8080/"
        },
        "id": "O5acfApHn8cb",
        "outputId": "c078adb4-f918-458d-8e41-53197eb1d526"
      },
      "source": [
        "from sklearn.metrics import accuracy_score\n",
        "wrong = 0\n",
        "pred = []\n",
        "for i in range(len(test_label)):\n",
        "    x=round(clf.predict(test_data[i].reshape(1, -1))[0])\n",
        "    pred.append(le.inverse_transform([x]))\n",
        "    if pred[i]!=test_label[i] :\n",
        "        wrong+=1\n",
        "print(wrong)\n",
        "print(accuracy_score(test_label, pred))\n",
        "print(precision_score(test_label, pred,labels=['h','g'],pos_label='h'))\n",
        "print(recall_score(test_label, pred,labels=['h','g'],pos_label='h'))\n",
        "print(f1_score(test_label, pred,average=None))\n",
        "print(confusion_matrix(test_label, pred))"
      ],
      "execution_count": null,
      "outputs": [
        {
          "output_type": "stream",
          "text": [
            "898\n",
            "0.7762272614004485\n",
            "0.639193083573487\n",
            "0.8030412744388125\n",
            "[0.81710794 0.71181001]\n",
            "[[2006  626]\n",
            " [ 272 1109]]\n"
          ],
          "name": "stdout"
        }
      ]
    },
    {
      "cell_type": "code",
      "metadata": {
        "id": "TyNV98eqna4t"
      },
      "source": [
        "from tensorflow.keras import Sequential\n",
        "from tensorflow.keras.layers import Conv2D, Flatten, Dense\n",
        "model = Sequential()\n",
        "model.add(Dense(12, input_dim=10, activation='relu'))\n",
        "model.add(Dense(8, activation='relu'))\n",
        "model.add(Dense(1, activation='sigmoid'))\n",
        "model.compile(loss='binary_crossentropy', optimizer='adam', metrics=['accuracy'])"
      ],
      "execution_count": null,
      "outputs": []
    },
    {
      "cell_type": "code",
      "metadata": {
        "colab": {
          "base_uri": "https://localhost:8080/"
        },
        "id": "3kzgDz65qhaI",
        "outputId": "6e171e13-4f34-4c2d-cf7b-24ad225f9cd5"
      },
      "source": [
        "from sklearn import preprocessing\n",
        "le = preprocessing.LabelEncoder()\n",
        "le.fit(train_label)\n",
        "model.fit(train_data,le.transform(train_label), epochs=20, batch_size=10)"
      ],
      "execution_count": null,
      "outputs": [
        {
          "output_type": "stream",
          "text": [
            "Epoch 1/20\n",
            "937/937 [==============================] - 2s 1ms/step - loss: 1.8624 - accuracy: 0.5312\n",
            "Epoch 2/20\n",
            "937/937 [==============================] - 1s 1ms/step - loss: 0.6516 - accuracy: 0.5665\n",
            "Epoch 3/20\n",
            "937/937 [==============================] - 1s 1ms/step - loss: 0.5637 - accuracy: 0.7007\n",
            "Epoch 4/20\n",
            "937/937 [==============================] - 1s 1ms/step - loss: 0.5289 - accuracy: 0.7438\n",
            "Epoch 5/20\n",
            "937/937 [==============================] - 1s 1ms/step - loss: 0.4952 - accuracy: 0.7612\n",
            "Epoch 6/20\n",
            "937/937 [==============================] - 1s 1ms/step - loss: 0.4784 - accuracy: 0.7722\n",
            "Epoch 7/20\n",
            "937/937 [==============================] - 1s 1ms/step - loss: 0.4710 - accuracy: 0.7691\n",
            "Epoch 8/20\n",
            "937/937 [==============================] - 1s 1ms/step - loss: 0.4657 - accuracy: 0.7747\n",
            "Epoch 9/20\n",
            "937/937 [==============================] - 1s 1ms/step - loss: 0.4596 - accuracy: 0.7754\n",
            "Epoch 10/20\n",
            "937/937 [==============================] - 1s 1ms/step - loss: 0.4578 - accuracy: 0.7739\n",
            "Epoch 11/20\n",
            "937/937 [==============================] - 1s 1ms/step - loss: 0.4393 - accuracy: 0.7879\n",
            "Epoch 12/20\n",
            "937/937 [==============================] - 1s 1ms/step - loss: 0.4428 - accuracy: 0.7874\n",
            "Epoch 13/20\n",
            "937/937 [==============================] - 1s 1ms/step - loss: 0.4454 - accuracy: 0.7829\n",
            "Epoch 14/20\n",
            "937/937 [==============================] - 1s 1ms/step - loss: 0.4514 - accuracy: 0.7841\n",
            "Epoch 15/20\n",
            "937/937 [==============================] - 1s 1ms/step - loss: 0.4435 - accuracy: 0.7839\n",
            "Epoch 16/20\n",
            "937/937 [==============================] - 1s 1ms/step - loss: 0.4343 - accuracy: 0.7905\n",
            "Epoch 17/20\n",
            "937/937 [==============================] - 1s 1ms/step - loss: 0.4384 - accuracy: 0.7821\n",
            "Epoch 18/20\n",
            "937/937 [==============================] - 1s 1ms/step - loss: 0.4392 - accuracy: 0.7873\n",
            "Epoch 19/20\n",
            "937/937 [==============================] - 1s 1ms/step - loss: 0.4369 - accuracy: 0.7858\n",
            "Epoch 20/20\n",
            "937/937 [==============================] - 1s 1ms/step - loss: 0.4348 - accuracy: 0.7874\n"
          ],
          "name": "stdout"
        },
        {
          "output_type": "execute_result",
          "data": {
            "text/plain": [
              "<tensorflow.python.keras.callbacks.History at 0x7f0ca677d9b0>"
            ]
          },
          "metadata": {
            "tags": []
          },
          "execution_count": 54
        }
      ]
    },
    {
      "cell_type": "code",
      "metadata": {
        "colab": {
          "base_uri": "https://localhost:8080/"
        },
        "id": "MF5vJt0gna4t",
        "outputId": "3501c02f-80d2-4843-8368-945bcf9e42a4"
      },
      "source": [
        "from sklearn.metrics import *\n",
        "wrong = 0 \n",
        "pred = []\n",
        "for i in range(len(test_label)):\n",
        "    x=round(model.predict(test_data[i].reshape(1, -1))[0][0])\n",
        "    pred.append((le.inverse_transform([int(x)]))[0])\n",
        "    if pred[i]!=test_label[i] :\n",
        "        wrong+=1\n",
        "print(wrong)\n",
        "print(accuracy_score(test_label, pred))\n",
        "print(precision_score(test_label, pred,labels=['h','g'],pos_label='h'))\n",
        "print(recall_score(test_label, pred,labels=['h','g'],pos_label='h'))\n",
        "print(f1_score(test_label, pred,average=None))\n",
        "print(confusion_matrix(test_label, pred))"
      ],
      "execution_count": null,
      "outputs": [
        {
          "output_type": "stream",
          "text": [
            "952\n",
            "0.7627709942686269\n",
            "0.6177924217462932\n",
            "0.8146270818247646\n",
            "[0.8026534  0.70268582]\n",
            "[[1936  696]\n",
            " [ 256 1125]]\n"
          ],
          "name": "stdout"
        }
      ]
    }
  ]
}